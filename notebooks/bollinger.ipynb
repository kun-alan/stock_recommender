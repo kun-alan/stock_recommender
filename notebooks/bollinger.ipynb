{
 "cells": [
  {
   "cell_type": "code",
   "execution_count": 8,
   "metadata": {
    "collapsed": true
   },
   "outputs": [],
   "source": [
    "import datetime\n",
    "\n",
    "import pandas as pd\n",
    "\n",
    "from stock_common.lib import util\n",
    "from stock_common.lib.database import Database\n",
    "from stock_common.conf.config import Config\n",
    "from stock_common.lib.storage import minio_client\n",
    "from stock_recommender.data.sp500 import SP500\n",
    "\n",
    "CONFIGS = Config.get_configs()\n",
    "db = Database(CONFIGS)"
   ]
  },
  {
   "cell_type": "code",
   "execution_count": 9,
   "metadata": {
    "collapsed": true
   },
   "outputs": [],
   "source": [
    "%matplotlib inline"
   ]
  },
  {
   "cell_type": "code",
   "execution_count": 10,
   "metadata": {
    "collapsed": true
   },
   "outputs": [],
   "source": [
    "symbols = SP500().get_symbols_from_mongo()\n",
    "\n",
    "if 'SPY' not in symbols:\n",
    "    symbols.append('SPY')"
   ]
  },
  {
   "cell_type": "code",
   "execution_count": 26,
   "metadata": {
    "scrolled": true
   },
   "outputs": [],
   "source": [
    "if datetime.datetime.today().hour >= 16:\n",
    "    end_date = datetime.date.today()\n",
    "else:\n",
    "    end_date = datetime.date.today() - datetime.timedelta(days=1)\n",
    "#start_date = end_date - datetime.timedelta(days=50)\n",
    "#print(start_date)\n",
    "#print(end_date)"
   ]
  },
  {
   "cell_type": "code",
   "execution_count": 12,
   "metadata": {},
   "outputs": [],
   "source": [
    "# pf = util.read_data(symbols, start_date, end_date)"
   ]
  },
  {
   "cell_type": "code",
   "execution_count": 13,
   "metadata": {},
   "outputs": [],
   "source": [
    "pf_price = pd.read_hdf('../tmp/' + CONFIGS.PRICES_H5)"
   ]
  },
  {
   "cell_type": "code",
   "execution_count": 14,
   "metadata": {},
   "outputs": [],
   "source": [
    "df_close = pf_price.Close.tail(21).dropna(axis=1)"
   ]
  },
  {
   "cell_type": "code",
   "execution_count": 28,
   "metadata": {},
   "outputs": [
    {
     "data": {
      "text/plain": [
       "datetime.date(2017, 10, 26)"
      ]
     },
     "execution_count": 28,
     "metadata": {},
     "output_type": "execute_result"
    }
   ],
   "source": [
    "end_date"
   ]
  },
  {
   "cell_type": "code",
   "execution_count": 35,
   "metadata": {},
   "outputs": [
    {
     "data": {
      "text/plain": [
       "True"
      ]
     },
     "execution_count": 35,
     "metadata": {},
     "output_type": "execute_result"
    }
   ],
   "source": [
    "end_date == df_close.index[-1].date()"
   ]
  },
  {
   "cell_type": "code",
   "execution_count": null,
   "metadata": {
    "collapsed": true
   },
   "outputs": [],
   "source": [
    "df_ma = df_close.rolling(window=20,center=False).mean().tail(2)\n",
    "df_std = df_close.rolling(window=20,center=False).std().tail(2)\n",
    "df_bollingerbands = (df_close.tail(2) - df_ma) / df_std"
   ]
  },
  {
   "cell_type": "code",
   "execution_count": null,
   "metadata": {},
   "outputs": [],
   "source": [
    "df_close.tail(2)"
   ]
  },
  {
   "cell_type": "code",
   "execution_count": null,
   "metadata": {},
   "outputs": [],
   "source": [
    "df_ma"
   ]
  },
  {
   "cell_type": "code",
   "execution_count": null,
   "metadata": {},
   "outputs": [],
   "source": [
    "df_std"
   ]
  },
  {
   "cell_type": "code",
   "execution_count": null,
   "metadata": {},
   "outputs": [],
   "source": [
    "df_bollingerbands"
   ]
  },
  {
   "cell_type": "code",
   "execution_count": null,
   "metadata": {
    "collapsed": true
   },
   "outputs": [],
   "source": [
    "todays_symbols = df_bollingerbands.columns.tolist()"
   ]
  },
  {
   "cell_type": "code",
   "execution_count": null,
   "metadata": {},
   "outputs": [],
   "source": [
    "df_bollingerbands.sort_index(inplace=True)"
   ]
  },
  {
   "cell_type": "code",
   "execution_count": null,
   "metadata": {
    "collapsed": true
   },
   "outputs": [],
   "source": [
    "#     Bollinger value for the equity today <= -2.0\n",
    "#     Bollinger value for the equity yesterday >= -2.0\n",
    "#     Bollinger value for SPY today >= 1.2"
   ]
  },
  {
   "cell_type": "code",
   "execution_count": null,
   "metadata": {
    "collapsed": true
   },
   "outputs": [],
   "source": [
    "def date_to_int(date):\n",
    "    return int(datetime.datetime.strftime(date, '%Y%m%d'))"
   ]
  },
  {
   "cell_type": "code",
   "execution_count": null,
   "metadata": {},
   "outputs": [],
   "source": [
    "recommended_symbols = []\n",
    "SPY = df_bollingerbands.iloc[1]['SPY']\n",
    "date_to_sell = end_date + datetime.timedelta(days=5)\n",
    "for symbol in todays_symbols:\n",
    "    yesterday = df_bollingerbands.iloc[0][symbol]\n",
    "    today = df_bollingerbands.iloc[1][symbol]\n",
    "    if yesterday >= -2.0 and today <= -2.0 and SPY >= 1.2:\n",
    "        recommended_symbols.append(symbol)\n",
    "\n",
    "model_result = {\n",
    "    'symbols': recommended_symbols,\n",
    "    'date_to_buy': date_to_int(end_date),\n",
    "    'holding_period': 5,\n",
    "    'date_to_sell': date_to_int(date_to_sell),\n",
    "    'model': 'bollinger',\n",
    "    'created_at': date_to_int(end_date),\n",
    "}"
   ]
  },
  {
   "cell_type": "code",
   "execution_count": null,
   "metadata": {},
   "outputs": [],
   "source": [
    "SPY"
   ]
  },
  {
   "cell_type": "code",
   "execution_count": null,
   "metadata": {},
   "outputs": [],
   "source": [
    "model_result"
   ]
  },
  {
   "cell_type": "code",
   "execution_count": null,
   "metadata": {},
   "outputs": [],
   "source": [
    "df_close[recommended_symbols].plot.line()"
   ]
  },
  {
   "cell_type": "code",
   "execution_count": null,
   "metadata": {
    "collapsed": true
   },
   "outputs": [],
   "source": []
  },
  {
   "cell_type": "code",
   "execution_count": null,
   "metadata": {
    "collapsed": true
   },
   "outputs": [],
   "source": []
  }
 ],
 "metadata": {
  "kernelspec": {
   "display_name": "Python 3",
   "language": "python",
   "name": "python3"
  },
  "language_info": {
   "codemirror_mode": {
    "name": "ipython",
    "version": 3
   },
   "file_extension": ".py",
   "mimetype": "text/x-python",
   "name": "python",
   "nbconvert_exporter": "python",
   "pygments_lexer": "ipython3",
   "version": "3.6.2"
  }
 },
 "nbformat": 4,
 "nbformat_minor": 2
}
